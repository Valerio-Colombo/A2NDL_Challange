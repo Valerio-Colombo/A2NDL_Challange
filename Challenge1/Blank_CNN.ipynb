{
 "cells": [
  {
   "cell_type": "code",
   "execution_count": 1,
   "metadata": {},
   "outputs": [],
   "source": [
    "import os\n",
    "import tensorflow as tf\n",
    "from tensorflow.keras import datasets, layers, models\n",
    "\n",
    "import numpy as np\n",
    "import matplotlib.pyplot as plt"
   ]
  },
  {
   "cell_type": "markdown",
   "metadata": {},
   "source": [
    "## System checkup"
   ]
  },
  {
   "cell_type": "code",
   "execution_count": 2,
   "metadata": {},
   "outputs": [
    {
     "name": "stdout",
     "output_type": "stream",
     "text": [
      "1 Physical GPUs, 1 Logical GPUs\n"
     ]
    }
   ],
   "source": [
    "# Set the seed for random operations. \n",
    "# This let our experiments to be reproducible. \n",
    "SEED = 5231\n",
    "tf.random.set_seed(SEED)  \n",
    "\n",
    "# Get current working directory\n",
    "cwd = os.getcwd()\n",
    "\n",
    "# Set GPU memory growth \n",
    "# Allows to only as much GPU memory as needed\n",
    "gpus = tf.config.experimental.list_physical_devices('GPU')\n",
    "if gpus:\n",
    "  try:\n",
    "    # Currently, memory growth needs to be the same across GPUs\n",
    "    for gpu in gpus:\n",
    "      tf.config.experimental.set_memory_growth(gpu, True)\n",
    "    logical_gpus = tf.config.experimental.list_logical_devices('GPU')\n",
    "    print(len(gpus), \"Physical GPUs,\", len(logical_gpus), \"Logical GPUs\")\n",
    "  except RuntimeError as e:\n",
    "    # Memory growth must be set before GPUs have been initialized\n",
    "    print(e)"
   ]
  },
  {
   "cell_type": "markdown",
   "metadata": {},
   "source": [
    "## Data preparation"
   ]
  },
  {
   "cell_type": "code",
   "execution_count": 3,
   "metadata": {},
   "outputs": [],
   "source": [
    "# ImageDataGenerator\n",
    "# ------------------\n",
    "\n",
    "from tensorflow.keras.preprocessing.image import ImageDataGenerator\n",
    "\n",
    "apply_data_augmentation = True\n",
    "\n",
    "# Create training ImageDataGenerator object\n",
    "if apply_data_augmentation:\n",
    "    train_data_gen = ImageDataGenerator(validation_split=0.1,\n",
    "                                        rotation_range=10,\n",
    "                                        width_shift_range=10,\n",
    "                                        height_shift_range=10,\n",
    "                                        zoom_range=0.3,\n",
    "                                        horizontal_flip=True,\n",
    "                                        vertical_flip=True,\n",
    "                                        fill_mode='constant',\n",
    "                                        cval=0,\n",
    "                                        rescale=1./255)\n",
    "else:\n",
    "    train_data_gen = ImageDataGenerator(validation_split=0.1,\n",
    "                                        rescale=1./255)"
   ]
  },
  {
   "cell_type": "code",
   "execution_count": 4,
   "metadata": {},
   "outputs": [
    {
     "name": "stdout",
     "output_type": "stream",
     "text": [
      "Training data: \n",
      "Found 1406 images belonging to 20 classes.\n",
      "Validation data: \n",
      "Found 148 images belonging to 20 classes.\n"
     ]
    }
   ],
   "source": [
    "# Create generators to read images from dataset directory\n",
    "# -------------------------------------------------------\n",
    "dataset_dir = os.path.join(cwd, 'Classification_Dataset')\n",
    "\n",
    "# Batch size\n",
    "bs = 32\n",
    "\n",
    "# img shape\n",
    "img_h = 256\n",
    "img_w = 256\n",
    "\n",
    "num_classes=20\n",
    "\n",
    "decide_class_indices = True\n",
    "if decide_class_indices:\n",
    "    classes = ['owl',               #0\n",
    "               'galaxy',            #1\n",
    "               'lightning',         #2\n",
    "               'wine-bottle',       #3\n",
    "               't-shirt',           #4\n",
    "               'waterfall',         #5\n",
    "               'sword',             #6\n",
    "               'school-bus',        #7\n",
    "               'calculator',        #8\n",
    "               'sheet-music',       #9\n",
    "               'airplanes',         #10\n",
    "               'lightbulb',         #11\n",
    "               'skyscraper',        #12\n",
    "               'mountain-bike',     #13\n",
    "               'fireworks',         #14\n",
    "               'computer-monitor',  #15\n",
    "               'bear',              #16\n",
    "               'grand-piano',       #17\n",
    "               'kangaroo',          #18\n",
    "               'laptop']            #19\n",
    "else:\n",
    "    classes=None\n",
    "\n",
    "\n",
    "training_dir = os.path.join(dataset_dir, 'training')\n",
    "\n",
    "# Training\n",
    "print(\"Training data: \")\n",
    "train_gen = train_data_gen.flow_from_directory(training_dir,\n",
    "                                               batch_size=bs,\n",
    "                                               classes=classes,\n",
    "                                               class_mode='categorical',\n",
    "                                               shuffle=True,\n",
    "                                               subset='training',\n",
    "                                               seed=SEED)  # targets are directly converted into one-hot vector\n",
    "\n",
    "# Validation\n",
    "print(\"Validation data: \")\n",
    "valid_gen = train_data_gen.flow_from_directory(training_dir,\n",
    "                                               batch_size=bs,\n",
    "                                               classes=classes,\n",
    "                                               class_mode='categorical',\n",
    "                                               shuffle=False,\n",
    "                                               subset='validation',\n",
    "                                               seed=SEED)  # targets are directly converted into one-hot vector"
   ]
  },
  {
   "cell_type": "code",
   "execution_count": 5,
   "metadata": {},
   "outputs": [],
   "source": [
    "# Create Dataset objects\n",
    "# ----------------------\n",
    "\n",
    "# Training\n",
    "train_dataset = tf.data.Dataset.from_generator(lambda: train_gen,\n",
    "                                               output_types=(tf.float32, tf.float32),\n",
    "                                               output_shapes=([None, img_h, img_w, 3], [None, num_classes]))\n",
    "\n",
    "train_dataset = train_dataset.repeat()\n",
    "\n",
    "# Validation\n",
    "valid_dataset = tf.data.Dataset.from_generator(lambda: valid_gen, \n",
    "                                               output_types=(tf.float32, tf.float32),\n",
    "                                               output_shapes=([None, img_h, img_w, 3], [None, num_classes]))\n",
    "\n",
    "test_dataset = valid_dataset.repeat()"
   ]
  },
  {
   "cell_type": "markdown",
   "metadata": {},
   "source": [
    "## Convolutional Neural Network (CNN)"
   ]
  },
  {
   "cell_type": "code",
   "execution_count": 6,
   "metadata": {},
   "outputs": [
    {
     "name": "stdout",
     "output_type": "stream",
     "text": [
      "Model: \"sequential\"\n",
      "_________________________________________________________________\n",
      "Layer (type)                 Output Shape              Param #   \n",
      "=================================================================\n",
      "conv2d (Conv2D)              (None, 254, 254, 8)       224       \n",
      "_________________________________________________________________\n",
      "max_pooling2d (MaxPooling2D) (None, 127, 127, 8)       0         \n",
      "_________________________________________________________________\n",
      "conv2d_1 (Conv2D)            (None, 125, 125, 16)      1168      \n",
      "_________________________________________________________________\n",
      "max_pooling2d_1 (MaxPooling2 (None, 62, 62, 16)        0         \n",
      "_________________________________________________________________\n",
      "conv2d_2 (Conv2D)            (None, 60, 60, 32)        4640      \n",
      "_________________________________________________________________\n",
      "max_pooling2d_2 (MaxPooling2 (None, 30, 30, 32)        0         \n",
      "_________________________________________________________________\n",
      "conv2d_3 (Conv2D)            (None, 28, 28, 64)        18496     \n",
      "_________________________________________________________________\n",
      "max_pooling2d_3 (MaxPooling2 (None, 14, 14, 64)        0         \n",
      "_________________________________________________________________\n",
      "conv2d_4 (Conv2D)            (None, 12, 12, 128)       73856     \n",
      "_________________________________________________________________\n",
      "max_pooling2d_4 (MaxPooling2 (None, 6, 6, 128)         0         \n",
      "_________________________________________________________________\n",
      "conv2d_5 (Conv2D)            (None, 4, 4, 256)         295168    \n",
      "_________________________________________________________________\n",
      "max_pooling2d_5 (MaxPooling2 (None, 2, 2, 256)         0         \n",
      "_________________________________________________________________\n",
      "flatten (Flatten)            (None, 1024)              0         \n",
      "_________________________________________________________________\n",
      "dense (Dense)                (None, 512)               524800    \n",
      "_________________________________________________________________\n",
      "dense_1 (Dense)              (None, 128)               65664     \n",
      "_________________________________________________________________\n",
      "dense_2 (Dense)              (None, 20)                2580      \n",
      "=================================================================\n",
      "Total params: 986,596\n",
      "Trainable params: 986,596\n",
      "Non-trainable params: 0\n",
      "_________________________________________________________________\n"
     ]
    }
   ],
   "source": [
    "# CNN layers\n",
    "model = models.Sequential()\n",
    "model.add(layers.Conv2D(8, (3, 3), activation='relu', input_shape=(img_w, img_h, 3)))\n",
    "model.add(layers.MaxPooling2D((2, 2)))\n",
    "model.add(layers.Conv2D(16, (3, 3), activation='relu'))\n",
    "model.add(layers.MaxPooling2D((2, 2)))\n",
    "model.add(layers.Conv2D(32, (3, 3), activation='relu'))\n",
    "model.add(layers.MaxPooling2D((2, 2)))\n",
    "model.add(layers.Conv2D(64, (3, 3), activation='relu'))\n",
    "model.add(layers.MaxPooling2D((2, 2)))\n",
    "model.add(layers.Conv2D(128, (3, 3), activation='relu'))\n",
    "model.add(layers.MaxPooling2D((2, 2)))\n",
    "model.add(layers.Conv2D(256, (3, 3), activation='relu'))\n",
    "model.add(layers.MaxPooling2D((2, 2)))\n",
    "# FC layers\n",
    "model.add(layers.Flatten())\n",
    "model.add(layers.Dense(512, activation='relu'))\n",
    "model.add(layers.Dense(128, activation='relu'))\n",
    "model.add(layers.Dense(20, activation='softmax'))\n",
    "\n",
    "model.summary()"
   ]
  },
  {
   "cell_type": "code",
   "execution_count": 7,
   "metadata": {},
   "outputs": [
    {
     "name": "stdout",
     "output_type": "stream",
     "text": [
      "Train for 44 steps, validate for 5 steps\n",
      "Epoch 1/30\n",
      "44/44 [==============================] - 19s 440ms/step - loss: 2.9849 - accuracy: 0.0533 - val_loss: 2.9314 - val_accuracy: 0.0811\n",
      "Epoch 2/30\n",
      "44/44 [==============================] - 17s 388ms/step - loss: 2.9110 - accuracy: 0.0910 - val_loss: 2.8866 - val_accuracy: 0.1216\n",
      "Epoch 3/30\n",
      "44/44 [==============================] - 17s 387ms/step - loss: 2.7527 - accuracy: 0.1351 - val_loss: 2.6752 - val_accuracy: 0.1284\n",
      "Epoch 4/30\n",
      "44/44 [==============================] - 17s 391ms/step - loss: 2.5987 - accuracy: 0.1714 - val_loss: 2.5068 - val_accuracy: 0.2095\n",
      "Epoch 5/30\n",
      "44/44 [==============================] - 17s 388ms/step - loss: 2.4382 - accuracy: 0.2432 - val_loss: 2.4169 - val_accuracy: 0.2770\n",
      "Epoch 6/30\n",
      "44/44 [==============================] - 17s 395ms/step - loss: 2.2674 - accuracy: 0.3030 - val_loss: 2.3919 - val_accuracy: 0.2365\n",
      "Epoch 7/30\n",
      "44/44 [==============================] - 18s 400ms/step - loss: 2.2361 - accuracy: 0.2866 - val_loss: 2.1859 - val_accuracy: 0.2770\n",
      "Epoch 8/30\n",
      "44/44 [==============================] - 17s 397ms/step - loss: 2.1294 - accuracy: 0.3414 - val_loss: 2.1658 - val_accuracy: 0.3581\n",
      "Epoch 9/30\n",
      "44/44 [==============================] - 17s 387ms/step - loss: 2.0841 - accuracy: 0.3471 - val_loss: 2.0373 - val_accuracy: 0.3784\n",
      "Epoch 10/30\n",
      "44/44 [==============================] - 17s 389ms/step - loss: 2.0221 - accuracy: 0.3578 - val_loss: 2.2043 - val_accuracy: 0.3041\n",
      "Epoch 11/30\n",
      "44/44 [==============================] - 17s 388ms/step - loss: 1.9699 - accuracy: 0.3890 - val_loss: 2.0757 - val_accuracy: 0.3514\n",
      "Epoch 12/30\n",
      "44/44 [==============================] - 17s 391ms/step - loss: 1.8943 - accuracy: 0.4018 - val_loss: 1.9972 - val_accuracy: 0.4189\n",
      "Epoch 13/30\n",
      "44/44 [==============================] - 17s 386ms/step - loss: 1.7885 - accuracy: 0.4296 - val_loss: 1.9772 - val_accuracy: 0.4189\n",
      "Epoch 14/30\n",
      "44/44 [==============================] - 17s 384ms/step - loss: 1.7748 - accuracy: 0.4410 - val_loss: 1.9267 - val_accuracy: 0.3986\n",
      "Epoch 15/30\n",
      "44/44 [==============================] - 17s 391ms/step - loss: 1.6894 - accuracy: 0.4780 - val_loss: 2.0218 - val_accuracy: 0.3919\n",
      "Epoch 16/30\n",
      "44/44 [==============================] - 17s 386ms/step - loss: 1.6516 - accuracy: 0.4730 - val_loss: 1.7426 - val_accuracy: 0.4730\n",
      "Epoch 17/30\n",
      "44/44 [==============================] - 17s 386ms/step - loss: 1.5255 - accuracy: 0.5078 - val_loss: 2.0268 - val_accuracy: 0.4865\n",
      "Epoch 18/30\n",
      "44/44 [==============================] - 17s 384ms/step - loss: 1.5886 - accuracy: 0.5121 - val_loss: 1.8924 - val_accuracy: 0.4730\n",
      "Epoch 19/30\n",
      "44/44 [==============================] - 17s 384ms/step - loss: 1.5004 - accuracy: 0.5142 - val_loss: 1.6544 - val_accuracy: 0.5000\n",
      "Epoch 20/30\n",
      "44/44 [==============================] - 17s 384ms/step - loss: 1.4594 - accuracy: 0.5341 - val_loss: 1.7921 - val_accuracy: 0.4730\n",
      "Epoch 21/30\n",
      "44/44 [==============================] - 17s 385ms/step - loss: 1.3535 - accuracy: 0.5633 - val_loss: 1.6614 - val_accuracy: 0.5270\n",
      "Epoch 22/30\n",
      "44/44 [==============================] - 17s 383ms/step - loss: 1.3506 - accuracy: 0.5619 - val_loss: 1.7392 - val_accuracy: 0.4865\n",
      "Epoch 23/30\n",
      "44/44 [==============================] - 17s 388ms/step - loss: 1.3138 - accuracy: 0.5761 - val_loss: 1.7915 - val_accuracy: 0.5068\n",
      "Epoch 24/30\n",
      "44/44 [==============================] - 17s 384ms/step - loss: 1.2359 - accuracy: 0.5974 - val_loss: 1.5816 - val_accuracy: 0.5338\n",
      "Epoch 25/30\n",
      "44/44 [==============================] - 17s 386ms/step - loss: 1.2200 - accuracy: 0.6095 - val_loss: 1.8147 - val_accuracy: 0.4932\n",
      "Epoch 26/30\n",
      "44/44 [==============================] - 17s 384ms/step - loss: 1.1049 - accuracy: 0.6309 - val_loss: 1.8301 - val_accuracy: 0.5000\n",
      "Epoch 27/30\n",
      "44/44 [==============================] - 17s 386ms/step - loss: 1.2628 - accuracy: 0.6046 - val_loss: 1.7158 - val_accuracy: 0.5135\n",
      "Epoch 28/30\n",
      "44/44 [==============================] - 17s 387ms/step - loss: 1.1725 - accuracy: 0.6209 - val_loss: 1.6296 - val_accuracy: 0.5068\n",
      "Epoch 29/30\n",
      "44/44 [==============================] - 17s 385ms/step - loss: 1.0987 - accuracy: 0.6437 - val_loss: 1.7591 - val_accuracy: 0.5405\n",
      "Epoch 30/30\n",
      "44/44 [==============================] - 17s 386ms/step - loss: 1.0294 - accuracy: 0.6807 - val_loss: 1.7219 - val_accuracy: 0.5203\n"
     ]
    }
   ],
   "source": [
    "# Optimization params\n",
    "# -------------------\n",
    "epoch_num = 30\n",
    "lr = 1e-3\n",
    "\n",
    "# Loss\n",
    "loss = tf.keras.losses.CategoricalCrossentropy()\n",
    "\n",
    "# Optimazer\n",
    "optimizer = tf.keras.optimizers.Adam()\n",
    "# -------------------\n",
    "\n",
    "# Validation metrics\n",
    "# ------------------\n",
    "\n",
    "metrics = ['accuracy']\n",
    "# ------------------\n",
    "\n",
    "# Compile Model\n",
    "model.compile(optimizer=optimizer, loss=loss, metrics=metrics)\n",
    "\n",
    "history = model.fit(x=train_dataset,\n",
    "                    epochs=epoch_num,\n",
    "                    steps_per_epoch=len(train_gen),\n",
    "                    validation_data=valid_dataset,\n",
    "                    validation_steps=len(valid_gen))"
   ]
  },
  {
   "cell_type": "code",
   "execution_count": 8,
   "metadata": {},
   "outputs": [
    {
     "data": {
      "text/plain": [
       "<matplotlib.legend.Legend at 0x2760a51a978>"
      ]
     },
     "execution_count": 8,
     "metadata": {},
     "output_type": "execute_result"
    },
    {
     "data": {
      "image/png": "[encoded data removed]",
      "text/plain": [
       "<Figure size 432x288 with 1 Axes>"
      ]
     },
     "metadata": {
      "needs_background": "light"
     },
     "output_type": "display_data"
    }
   ],
   "source": [
    "plt.plot(history.history['accuracy'], label='accuracy')\n",
    "plt.plot(history.history['val_accuracy'], label = 'val_accuracy')\n",
    "plt.xlabel('Epoch')\n",
    "plt.ylabel('Accuracy')\n",
    "plt.ylim([0.1, 1])\n",
    "plt.legend(loc='lower right')"
   ]
  },
  {
   "cell_type": "code",
   "execution_count": 9,
   "metadata": {},
   "outputs": [],
   "source": [
    "from datetime import datetime\n",
    "\n",
    "def create_csv(results, results_dir='./Test_Result'):\n",
    "\n",
    "    csv_fname = 'results_'\n",
    "    csv_fname += datetime.now().strftime('%b%d_%H-%M-%S') + '.csv'\n",
    "\n",
    "    with open(os.path.join(results_dir, csv_fname), 'w') as f:\n",
    "\n",
    "        f.write('Id,Category\\n')\n",
    "\n",
    "        for key, value in results.items():\n",
    "            f.write(key + ',' + str(value) + '\\n')"
   ]
  },
  {
   "cell_type": "code",
   "execution_count": 10,
   "metadata": {},
   "outputs": [],
   "source": [
    "import PIL\n",
    "from PIL import Image\n",
    "# ....\n",
    "\n",
    "test_dir = os.path.join(dataset_dir, 'test')\n",
    "image_filenames = next(os.walk(test_dir))[2]\n",
    "\n",
    "results = {}\n",
    "for image_name in image_filenames:\n",
    "\n",
    "   img = Image.open(os.path.join(test_dir, image_name)).convert('RGB')\n",
    "   img = img.resize((img_w, img_h), PIL.Image.ANTIALIAS)\n",
    "   img_array = np.array(img)\n",
    "   img_array = np.expand_dims(img_array, 0) \n",
    "                                 \n",
    "   img_array = img_array/255.0\n",
    "   prediction = model.predict(img_array)   # predicted class\n",
    "\n",
    "   results[image_name] = np.argmax(prediction)\n",
    "\n",
    "create_csv(results)"
   ]
  },
  {
   "cell_type": "code",
   "execution_count": null,
   "metadata": {},
   "outputs": [],
   "source": []
  }
 ],
 "metadata": {
  "kernelspec": {
   "display_name": "TensorFlowEnv",
   "language": "python",
   "name": "tensorflowenv"
  },
  "language_info": {
   "codemirror_mode": {
    "name": "ipython",
    "version": 3
   },
   "file_extension": ".py",
   "mimetype": "text/x-python",
   "name": "python",
   "nbconvert_exporter": "python",
   "pygments_lexer": "ipython3",
   "version": "3.6.8"
  }
 },
 "nbformat": 4,
 "nbformat_minor": 4
}
