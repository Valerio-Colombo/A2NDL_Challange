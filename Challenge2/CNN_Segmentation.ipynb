{
  "nbformat": 4,
  "nbformat_minor": 0,
  "metadata": {
    "accelerator": "GPU",
    "colab": {
      "name": "Copy of CNN_Segmentation.ipynb",
      "provenance": [],
      "collapsed_sections": [],
      "toc_visible": true
    },
    "kernelspec": {
      "name": "python3",
      "display_name": "Python 3"
    },
    "language_info": {
      "codemirror_mode": {
        "name": "ipython",
        "version": 3
      },
      "file_extension": ".py",
      "mimetype": "text/x-python",
      "name": "python",
      "nbconvert_exporter": "python",
      "pygments_lexer": "ipython3",
      "version": "3.6.8"
    }
  },
  "cells": [
    {
      "cell_type": "code",
      "metadata": {
        "colab_type": "code",
        "id": "WfmQXOmnUsrk",
        "colab": {
          "base_uri": "https://localhost:8080/",
          "height": 34
        },
        "outputId": "8df9caf5-a27e-496f-be82-56e34492eda8"
      },
      "source": [
        "google_colab = True\n",
        "if google_colab:\n",
        "  %tensorflow_version 2.x"
      ],
      "execution_count": 1,
      "outputs": [
        {
          "output_type": "stream",
          "text": [
            "TensorFlow 2.x selected.\n"
          ],
          "name": "stdout"
        }
      ]
    },
    {
      "cell_type": "code",
      "metadata": {
        "colab_type": "code",
        "id": "UIrHHSZ2U2y7",
        "colab": {}
      },
      "source": [
        "if google_colab:\n",
        "  from google.colab import drive\n",
        "  drive.mount('/content/drive')"
      ],
      "execution_count": 0,
      "outputs": []
    },
    {
      "cell_type": "code",
      "metadata": {
        "colab_type": "code",
        "id": "7GyHn20RVIbU",
        "colab": {}
      },
      "source": [
        "if google_colab:\n",
        "  !unzip ann-and-dl-image-segmentation.zip"
      ],
      "execution_count": 0,
      "outputs": []
    },
    {
      "cell_type": "code",
      "metadata": {
        "colab_type": "code",
        "id": "F-6q_K3IKCVx",
        "colab": {}
      },
      "source": [
        "from IPython.core.interactiveshell import InteractiveShell\n",
        "InteractiveShell.ast_node_interactivity = \"all\""
      ],
      "execution_count": 0,
      "outputs": []
    },
    {
      "cell_type": "code",
      "metadata": {
        "colab_type": "code",
        "id": "oZGJMDuxKCV_",
        "outputId": "69ebffad-3af7-4aa6-ce73-e8a242b42c32",
        "colab": {
          "base_uri": "https://localhost:8080/",
          "height": 34
        }
      },
      "source": [
        "import os\n",
        "\n",
        "# os.environ[\"CUDA_VISIBLE_DEVICES\"]=\"-1\" \n",
        "import tensorflow as tf\n",
        "import numpy as np\n",
        "\n",
        "# Set the seed for random operations. \n",
        "# This let our experiments to be reproducible. \n",
        "SEED = 8435\n",
        "tf.random.set_seed(SEED)  \n",
        "\n",
        "# Get current working directory\n",
        "cwd = os.getcwd()\n",
        "\n",
        "# Set GPU memory growth\n",
        "# Allows to only as much GPU memory as needed\n",
        "gpus = tf.config.experimental.list_physical_devices('GPU')\n",
        "if gpus:\n",
        "  try:\n",
        "    # Currently, memory growth needs to be the same across GPUs\n",
        "    for gpu in gpus:\n",
        "      tf.config.experimental.set_memory_growth(gpu, True)\n",
        "    logical_gpus = tf.config.experimental.list_logical_devices('GPU')\n",
        "    print(len(gpus), \"Physical GPUs,\", len(logical_gpus), \"Logical GPUs\")\n",
        "  except RuntimeError as e:\n",
        "    # Memory growth must be set before GPUs have been initialized\n",
        "    print(e)"
      ],
      "execution_count": 2,
      "outputs": [
        {
          "output_type": "stream",
          "text": [
            "1 Physical GPUs, 1 Logical GPUs\n"
          ],
          "name": "stdout"
        }
      ]
    },
    {
      "cell_type": "markdown",
      "metadata": {
        "colab_type": "text",
        "id": "s2LW8-NMKCWI"
      },
      "source": [
        "# Image Segmentation"
      ]
    },
    {
      "cell_type": "code",
      "metadata": {
        "colab_type": "code",
        "id": "0qE43FprKCWN",
        "colab": {}
      },
      "source": [
        "# ImageDataGenerator\n",
        "# ------------------\n",
        "\n",
        "from tensorflow.keras.preprocessing.image import ImageDataGenerator\n",
        "\n",
        "apply_data_augmentation = True\n",
        "\n",
        "# Create training ImageDataGenerator object\n",
        "# We need two different generators for images and corresponding masks\n",
        "if apply_data_augmentation:\n",
        "    train_img_data_gen = ImageDataGenerator(rotation_range=10,\n",
        "                                            width_shift_range=10,\n",
        "                                            height_shift_range=10,\n",
        "                                            zoom_range=0.3,\n",
        "                                            horizontal_flip=True,\n",
        "                                            vertical_flip=True,\n",
        "                                            fill_mode='constant',\n",
        "                                            cval=0,\n",
        "                                            validation_split=0.2,\n",
        "                                            rescale=1./255,)\n",
        "    train_mask_data_gen = ImageDataGenerator(rotation_range=10,\n",
        "                                             width_shift_range=10,\n",
        "                                             height_shift_range=10,\n",
        "                                             zoom_range=0.3,\n",
        "                                             horizontal_flip=True,\n",
        "                                             vertical_flip=True,\n",
        "                                             fill_mode='constant',\n",
        "                                             cval=0,\n",
        "                                             validation_split=0.2,\n",
        "                                             rescale=1./255)\n",
        "else:\n",
        "    train_img_data_gen = ImageDataGenerator(rescale=1./255\n",
        "                                            validation_split=0.2)\n",
        "    train_mask_data_gen = ImageDataGenerator(rescale=1./255\n",
        "                                             validation_split=0.2)"
      ],
      "execution_count": 0,
      "outputs": []
    },
    {
      "cell_type": "code",
      "metadata": {
        "colab_type": "code",
        "id": "jWZsKMvMKCWW",
        "outputId": "f542c55c-1597-4da5-be16-6d5d03fe2355",
        "colab": {
          "base_uri": "https://localhost:8080/",
          "height": 85
        }
      },
      "source": [
        "# Create generators to read images from dataset directory\n",
        "# -------------------------------------------------------\n",
        "dataset_dir = os.path.join(cwd, 'Segmentation_Dataset')\n",
        "\n",
        "# Batch size\n",
        "bs = 32\n",
        "\n",
        "# img shape\n",
        "img_h = 256\n",
        "img_w = 256\n",
        "\n",
        "num_classes=2\n",
        "\n",
        "training_dir = os.path.join(dataset_dir, 'training')\n",
        "# Training\n",
        "train_img_gen = train_img_data_gen.flow_from_directory(os.path.join(training_dir, 'images'),\n",
        "                                                       target_size=(img_h, img_w),\n",
        "                                                       batch_size=bs, \n",
        "                                                       class_mode=None,\n",
        "                                                       shuffle=True,\n",
        "                                                       subset='training',\n",
        "                                                       interpolation='bilinear',\n",
        "                                                       color_mode='rgb',\n",
        "                                                       seed=SEED)  \n",
        "train_mask_gen = train_mask_data_gen.flow_from_directory(os.path.join(training_dir, 'masks'),\n",
        "                                                         target_size=(img_h, img_w),\n",
        "                                                         batch_size=bs,\n",
        "                                                         class_mode=None,\n",
        "                                                         shuffle=True,\n",
        "                                                         subset='training',\n",
        "                                                         interpolation='bilinear',\n",
        "                                                         color_mode='grayscale',\n",
        "                                                         seed=SEED)\n",
        "train_gen = zip(train_img_gen, train_mask_gen)\n",
        "\n",
        "# Validation\n",
        "valid_img_gen = train_mask_data_gen.flow_from_directory(os.path.join(training_dir, 'images'),\n",
        "                                                       target_size=(img_h, img_w),\n",
        "                                                       batch_size=bs, \n",
        "                                                       class_mode=None,\n",
        "                                                       shuffle=False,\n",
        "                                                       subset='validation',\n",
        "                                                       interpolation='bilinear',\n",
        "                                                       color_mode='rgb',\n",
        "                                                       seed=SEED)\n",
        "valid_mask_gen = train_mask_data_gen.flow_from_directory(os.path.join(training_dir, 'masks'),\n",
        "                                                         target_size=(img_h, img_w),\n",
        "                                                         batch_size=bs, \n",
        "                                                         class_mode=None,\n",
        "                                                         shuffle=False,\n",
        "                                                         subset='validation',\n",
        "                                                         interpolation='bilinear',\n",
        "                                                         color_mode='grayscale',\n",
        "                                                         seed=SEED)\n",
        "valid_gen = zip(valid_img_gen, valid_mask_gen)"
      ],
      "execution_count": 4,
      "outputs": [
        {
          "output_type": "stream",
          "text": [
            "Found 6118 images belonging to 1 classes.\n",
            "Found 6118 images belonging to 1 classes.\n",
            "Found 1529 images belonging to 1 classes.\n",
            "Found 1529 images belonging to 1 classes.\n"
          ],
          "name": "stdout"
        }
      ]
    },
    {
      "cell_type": "code",
      "metadata": {
        "colab_type": "code",
        "id": "oFD-5r5JKCWc",
        "colab": {}
      },
      "source": [
        "# Create Dataset objects\n",
        "# ----------------------\n",
        "\n",
        "# Training\n",
        "# --------\n",
        "train_dataset = tf.data.Dataset.from_generator(lambda: train_gen,\n",
        "                                               output_types=(tf.float32, tf.float32),\n",
        "                                               output_shapes=([None, img_h, img_w, 3], [None, img_h, img_w, 1]))\n",
        "\n",
        "def prepare_target(x_, y_):\n",
        "    y_ = tf.cast(tf.expand_dims(y_[..., 0], -1), tf.int32)\n",
        "    return x_, tf.where(y_ > 0, y_ - 1, y_ + 1)\n",
        "\n",
        "train_dataset = train_dataset.map(prepare_target)\n",
        "\n",
        "# Repeat\n",
        "train_dataset = train_dataset.repeat()\n",
        "\n",
        "# Validation\n",
        "# ----------\n",
        "valid_dataset = tf.data.Dataset.from_generator(lambda: valid_gen, \n",
        "                                               output_types=(tf.float32, tf.float32),\n",
        "                                               output_shapes=([None, img_h, img_w, 3], [None, img_h, img_w, 1]))\n",
        "valid_dataset = valid_dataset.map(prepare_target)\n",
        "\n",
        "# Repeat\n",
        "valid_dataset = valid_dataset.repeat()"
      ],
      "execution_count": 0,
      "outputs": []
    },
    {
      "cell_type": "markdown",
      "metadata": {
        "colab_type": "text",
        "id": "jF_158pGKCW0"
      },
      "source": [
        "## Convolutional Neural Network (CNN)\n",
        "### Encoder-Decoder"
      ]
    },
    {
      "cell_type": "code",
      "metadata": {
        "colab_type": "code",
        "id": "qSHpAXgbKCW8",
        "colab": {}
      },
      "source": [
        "# Create Model\n",
        "# ------------\n",
        "\n",
        "def create_model(depth, start_f, num_classes, dynamic_input_shape):\n",
        "\n",
        "    model = tf.keras.Sequential()\n",
        "    \n",
        "    # Encoder\n",
        "    # -------\n",
        "    for i in range(depth):\n",
        "        \n",
        "        if i == 0:\n",
        "            if dynamic_input_shape:\n",
        "                input_shape = [None, None, 3]\n",
        "            else:\n",
        "                input_shape = [img_h, img_w, 3]\n",
        "        else:\n",
        "            input_shape=[None]\n",
        "        \n",
        "        model.add(tf.keras.layers.Conv2D(filters=start_f, \n",
        "                                         kernel_size=(3, 3),\n",
        "                                         strides=(1, 1),\n",
        "                                         padding='same',\n",
        "                                         input_shape=input_shape))\n",
        "        model.add(tf.keras.layers.ReLU())\n",
        "        model.add(tf.keras.layers.MaxPool2D(pool_size=(2, 2)))\n",
        "\n",
        "        start_f *= 2\n",
        "\n",
        "    # Decoder\n",
        "    # -------\n",
        "    for i in range(depth):\n",
        "        model.add(tf.keras.layers.UpSampling2D(2, interpolation='bilinear'))\n",
        "        model.add(tf.keras.layers.Conv2D(filters=start_f // 2,\n",
        "                                         kernel_size=(3, 3),\n",
        "                                         strides=(1, 1),\n",
        "                                         padding='same'))\n",
        "\n",
        "        model.add(tf.keras.layers.ReLU())\n",
        "\n",
        "        start_f = start_f // 2\n",
        "\n",
        "    # Prediction Layer\n",
        "    # ----------------\n",
        "    model.add(tf.keras.layers.Conv2D(filters=num_classes,\n",
        "                                     kernel_size=(1, 1),\n",
        "                                     strides=(1, 1),\n",
        "                                     padding='same',\n",
        "                                     activation='sigmoid'))\n",
        "    \n",
        "    return model"
      ],
      "execution_count": 0,
      "outputs": []
    },
    {
      "cell_type": "code",
      "metadata": {
        "colab_type": "code",
        "id": "z7zfJj29KCXD",
        "outputId": "56da9a8e-c057-427f-d692-1249080ea23e",
        "scrolled": true,
        "colab": {
          "base_uri": "https://localhost:8080/",
          "height": 1000
        }
      },
      "source": [
        "model = create_model(depth=8, \n",
        "                     start_f=4, \n",
        "                     num_classes=2, \n",
        "                     dynamic_input_shape=False)\n",
        "\n",
        "# Visualize created model as a table\n",
        "model.summary()"
      ],
      "execution_count": 9,
      "outputs": [
        {
          "output_type": "stream",
          "text": [
            "Model: \"sequential_2\"\n",
            "_________________________________________________________________\n",
            "Layer (type)                 Output Shape              Param #   \n",
            "=================================================================\n",
            "conv2d_18 (Conv2D)           (None, 256, 256, 4)       112       \n",
            "_________________________________________________________________\n",
            "re_lu_18 (ReLU)              (None, 256, 256, 4)       0         \n",
            "_________________________________________________________________\n",
            "max_pooling2d_18 (MaxPooling (None, 128, 128, 4)       0         \n",
            "_________________________________________________________________\n",
            "conv2d_19 (Conv2D)           (None, 128, 128, 8)       296       \n",
            "_________________________________________________________________\n",
            "re_lu_19 (ReLU)              (None, 128, 128, 8)       0         \n",
            "_________________________________________________________________\n",
            "max_pooling2d_19 (MaxPooling (None, 64, 64, 8)         0         \n",
            "_________________________________________________________________\n",
            "conv2d_20 (Conv2D)           (None, 64, 64, 16)        1168      \n",
            "_________________________________________________________________\n",
            "re_lu_20 (ReLU)              (None, 64, 64, 16)        0         \n",
            "_________________________________________________________________\n",
            "max_pooling2d_20 (MaxPooling (None, 32, 32, 16)        0         \n",
            "_________________________________________________________________\n",
            "conv2d_21 (Conv2D)           (None, 32, 32, 32)        4640      \n",
            "_________________________________________________________________\n",
            "re_lu_21 (ReLU)              (None, 32, 32, 32)        0         \n",
            "_________________________________________________________________\n",
            "max_pooling2d_21 (MaxPooling (None, 16, 16, 32)        0         \n",
            "_________________________________________________________________\n",
            "conv2d_22 (Conv2D)           (None, 16, 16, 64)        18496     \n",
            "_________________________________________________________________\n",
            "re_lu_22 (ReLU)              (None, 16, 16, 64)        0         \n",
            "_________________________________________________________________\n",
            "max_pooling2d_22 (MaxPooling (None, 8, 8, 64)          0         \n",
            "_________________________________________________________________\n",
            "conv2d_23 (Conv2D)           (None, 8, 8, 128)         73856     \n",
            "_________________________________________________________________\n",
            "re_lu_23 (ReLU)              (None, 8, 8, 128)         0         \n",
            "_________________________________________________________________\n",
            "max_pooling2d_23 (MaxPooling (None, 4, 4, 128)         0         \n",
            "_________________________________________________________________\n",
            "conv2d_24 (Conv2D)           (None, 4, 4, 256)         295168    \n",
            "_________________________________________________________________\n",
            "re_lu_24 (ReLU)              (None, 4, 4, 256)         0         \n",
            "_________________________________________________________________\n",
            "max_pooling2d_24 (MaxPooling (None, 2, 2, 256)         0         \n",
            "_________________________________________________________________\n",
            "conv2d_25 (Conv2D)           (None, 2, 2, 512)         1180160   \n",
            "_________________________________________________________________\n",
            "re_lu_25 (ReLU)              (None, 2, 2, 512)         0         \n",
            "_________________________________________________________________\n",
            "max_pooling2d_25 (MaxPooling (None, 1, 1, 512)         0         \n",
            "_________________________________________________________________\n",
            "up_sampling2d (UpSampling2D) (None, 2, 2, 512)         0         \n",
            "_________________________________________________________________\n",
            "conv2d_26 (Conv2D)           (None, 2, 2, 512)         2359808   \n",
            "_________________________________________________________________\n",
            "re_lu_26 (ReLU)              (None, 2, 2, 512)         0         \n",
            "_________________________________________________________________\n",
            "up_sampling2d_1 (UpSampling2 (None, 4, 4, 512)         0         \n",
            "_________________________________________________________________\n",
            "conv2d_27 (Conv2D)           (None, 4, 4, 256)         1179904   \n",
            "_________________________________________________________________\n",
            "re_lu_27 (ReLU)              (None, 4, 4, 256)         0         \n",
            "_________________________________________________________________\n",
            "up_sampling2d_2 (UpSampling2 (None, 8, 8, 256)         0         \n",
            "_________________________________________________________________\n",
            "conv2d_28 (Conv2D)           (None, 8, 8, 128)         295040    \n",
            "_________________________________________________________________\n",
            "re_lu_28 (ReLU)              (None, 8, 8, 128)         0         \n",
            "_________________________________________________________________\n",
            "up_sampling2d_3 (UpSampling2 (None, 16, 16, 128)       0         \n",
            "_________________________________________________________________\n",
            "conv2d_29 (Conv2D)           (None, 16, 16, 64)        73792     \n",
            "_________________________________________________________________\n",
            "re_lu_29 (ReLU)              (None, 16, 16, 64)        0         \n",
            "_________________________________________________________________\n",
            "up_sampling2d_4 (UpSampling2 (None, 32, 32, 64)        0         \n",
            "_________________________________________________________________\n",
            "conv2d_30 (Conv2D)           (None, 32, 32, 32)        18464     \n",
            "_________________________________________________________________\n",
            "re_lu_30 (ReLU)              (None, 32, 32, 32)        0         \n",
            "_________________________________________________________________\n",
            "up_sampling2d_5 (UpSampling2 (None, 64, 64, 32)        0         \n",
            "_________________________________________________________________\n",
            "conv2d_31 (Conv2D)           (None, 64, 64, 16)        4624      \n",
            "_________________________________________________________________\n",
            "re_lu_31 (ReLU)              (None, 64, 64, 16)        0         \n",
            "_________________________________________________________________\n",
            "up_sampling2d_6 (UpSampling2 (None, 128, 128, 16)      0         \n",
            "_________________________________________________________________\n",
            "conv2d_32 (Conv2D)           (None, 128, 128, 8)       1160      \n",
            "_________________________________________________________________\n",
            "re_lu_32 (ReLU)              (None, 128, 128, 8)       0         \n",
            "_________________________________________________________________\n",
            "up_sampling2d_7 (UpSampling2 (None, 256, 256, 8)       0         \n",
            "_________________________________________________________________\n",
            "conv2d_33 (Conv2D)           (None, 256, 256, 4)       292       \n",
            "_________________________________________________________________\n",
            "re_lu_33 (ReLU)              (None, 256, 256, 4)       0         \n",
            "_________________________________________________________________\n",
            "conv2d_34 (Conv2D)           (None, 256, 256, 2)       10        \n",
            "=================================================================\n",
            "Total params: 5,506,990\n",
            "Trainable params: 5,506,990\n",
            "Non-trainable params: 0\n",
            "_________________________________________________________________\n"
          ],
          "name": "stdout"
        }
      ]
    },
    {
      "cell_type": "markdown",
      "metadata": {
        "colab_type": "text",
        "id": "LCtf9XhvKCXL"
      },
      "source": [
        "## Prepare the model for training"
      ]
    },
    {
      "cell_type": "code",
      "metadata": {
        "colab_type": "code",
        "id": "qZPy3DnEKCXO",
        "colab": {}
      },
      "source": [
        "# Optimization params\n",
        "# -------------------\n",
        "\n",
        "# Loss\n",
        "# Sparse Categorical Crossentropy to use integers (mask) instead of one-hot encoded labels\n",
        "loss = tf.keras.losses.SparseCategoricalCrossentropy(from_logits=False) \n",
        "# learning rate\n",
        "lr = 1e-3\n",
        "optimizer = tf.keras.optimizers.Adam(learning_rate=lr)\n",
        "# -------------------\n",
        "\n",
        "# Validation metrics\n",
        "# ------------------\n",
        "def my_IoU(y_true, y_pred):\n",
        "    # from pobability to predicted class {0, 1}\n",
        "    y_pred = tf.cast(y_pred > 0.5, tf.float32) # when using sigmoid. Use argmax for softmax\n",
        "\n",
        "    # A and B\n",
        "    intersection = tf.reduce_sum(y_true * y_pred)\n",
        "    # A or B\n",
        "    union = tf.reduce_sum(y_true) + tf.reduce_sum(y_pred) - intersection\n",
        "    # IoU\n",
        "    return intersection / union\n",
        "\n",
        "metrics = [['accuracy', my_IoU]]\n",
        "# ------------------\n",
        "\n",
        "# Compile Model\n",
        "model.compile(optimizer=optimizer, loss=loss, metrics=metrics)"
      ],
      "execution_count": 0,
      "outputs": []
    },
    {
      "cell_type": "markdown",
      "metadata": {
        "colab_type": "text",
        "id": "2HKbVm3WKCXU"
      },
      "source": [
        "## Training with callbacks"
      ]
    },
    {
      "cell_type": "code",
      "metadata": {
        "colab_type": "code",
        "id": "8eRiB20tKCXW",
        "outputId": "56c63195-6ee5-4eec-e5a0-7560700390de",
        "scrolled": true,
        "colab": {
          "base_uri": "https://localhost:8080/",
          "height": 1000
        }
      },
      "source": [
        "import os\n",
        "from datetime import datetime\n",
        "\n",
        "# from tensorflow.compat.v1 import ConfigProto\n",
        "# from tensorflow.compat.v1 import InteractiveSession\n",
        "\n",
        "# config = ConfigProto()\n",
        "# config.gpu_options.allow_growth = True\n",
        "# session = InteractiveSession(config=config)\n",
        "\n",
        "cwd = os.getcwd()\n",
        "\n",
        "exps_dir = os.path.join(cwd, 'segmentation_experiments')\n",
        "if not os.path.exists(exps_dir):\n",
        "    os.makedirs(exps_dir)\n",
        "\n",
        "now = datetime.now().strftime('%b%d_%H-%M-%S')\n",
        "\n",
        "model_name = 'CNN'\n",
        "\n",
        "exp_dir = os.path.join(exps_dir, model_name + '_' + str(now))\n",
        "if not os.path.exists(exp_dir):\n",
        "    os.makedirs(exp_dir)\n",
        "    \n",
        "callbacks = []\n",
        "\n",
        "# Model checkpoint\n",
        "# ----------------\n",
        "ckpt_dir = os.path.join(exp_dir, 'ckpts')\n",
        "if not os.path.exists(ckpt_dir):\n",
        "    os.makedirs(ckpt_dir)\n",
        "\n",
        "ckpt_callback = tf.keras.callbacks.ModelCheckpoint(filepath=os.path.join(ckpt_dir, 'cp_{epoch:02d}.ckpt'), \n",
        "                                                   save_weights_only=True)  # False to save the model directly\n",
        "callbacks.append(ckpt_callback)\n",
        "\n",
        "# Visualize Learning on Tensorboard\n",
        "# ---------------------------------\n",
        "tb_dir = os.path.join(exp_dir, 'tb_logs')\n",
        "if not os.path.exists(tb_dir):\n",
        "    os.makedirs(tb_dir)\n",
        "    \n",
        "# By default shows losses and metrics for both training and validation\n",
        "tb_callback = tf.keras.callbacks.TensorBoard(log_dir=tb_dir,\n",
        "                                             profile_batch=0,\n",
        "                                             histogram_freq=0)  # if 1 shows weights histograms\n",
        "callbacks.append(tb_callback)\n",
        "\n",
        "# Early Stopping\n",
        "# --------------\n",
        "early_stop = True\n",
        "if early_stop:\n",
        "    es_callback = tf.keras.callbacks.EarlyStopping(monitor='val_loss', patience=10)\n",
        "    callbacks.append(es_callback)\n",
        "\n",
        "\n",
        "model.fit(x=train_dataset,\n",
        "          epochs=30,\n",
        "          steps_per_epoch=len(train_img_gen),\n",
        "          validation_data=valid_dataset,\n",
        "          validation_steps=len(valid_img_gen), \n",
        "          callbacks=callbacks)"
      ],
      "execution_count": 11,
      "outputs": [
        {
          "output_type": "stream",
          "text": [
            "Train for 192 steps, validate for 48 steps\n",
            "Epoch 1/30\n",
            "192/192 [==============================] - 175s 912ms/step - loss: 0.5769 - accuracy: 0.7418 - my_IoU: 0.7631 - val_loss: 0.5463 - val_accuracy: 0.7421 - val_my_IoU: 0.7424\n",
            "Epoch 2/30\n",
            "192/192 [==============================] - 170s 884ms/step - loss: 0.5455 - accuracy: 0.7426 - my_IoU: 0.7504 - val_loss: 0.5372 - val_accuracy: 0.7440 - val_my_IoU: 0.7443\n",
            "Epoch 3/30\n",
            "192/192 [==============================] - 169s 882ms/step - loss: 0.5381 - accuracy: 0.7428 - my_IoU: 0.7429 - val_loss: 0.5273 - val_accuracy: 0.7436 - val_my_IoU: 0.7440\n",
            "Epoch 4/30\n",
            "192/192 [==============================] - 169s 878ms/step - loss: 0.5279 - accuracy: 0.7429 - my_IoU: 0.7429 - val_loss: 0.5262 - val_accuracy: 0.7417 - val_my_IoU: 0.7421\n",
            "Epoch 5/30\n",
            "192/192 [==============================] - 169s 879ms/step - loss: 0.5226 - accuracy: 0.7422 - my_IoU: 0.7420 - val_loss: 0.5095 - val_accuracy: 0.7433 - val_my_IoU: 0.7437\n",
            "Epoch 6/30\n",
            "192/192 [==============================] - 169s 881ms/step - loss: 0.5136 - accuracy: 0.7427 - my_IoU: 0.7422 - val_loss: 0.5219 - val_accuracy: 0.7434 - val_my_IoU: 0.7437\n",
            "Epoch 7/30\n",
            "192/192 [==============================] - 170s 885ms/step - loss: 0.5109 - accuracy: 0.7440 - my_IoU: 0.7422 - val_loss: 0.5000 - val_accuracy: 0.7491 - val_my_IoU: 0.7405\n",
            "Epoch 8/30\n",
            "192/192 [==============================] - 169s 881ms/step - loss: 0.5060 - accuracy: 0.7459 - my_IoU: 0.7389 - val_loss: 0.4944 - val_accuracy: 0.7513 - val_my_IoU: 0.7440\n",
            "Epoch 9/30\n",
            "192/192 [==============================] - 168s 877ms/step - loss: 0.5005 - accuracy: 0.7515 - my_IoU: 0.7390 - val_loss: 0.4875 - val_accuracy: 0.7554 - val_my_IoU: 0.7416\n",
            "Epoch 10/30\n",
            "192/192 [==============================] - 170s 883ms/step - loss: 0.4944 - accuracy: 0.7550 - my_IoU: 0.7421 - val_loss: 0.4843 - val_accuracy: 0.7579 - val_my_IoU: 0.7427\n",
            "Epoch 11/30\n",
            "192/192 [==============================] - 168s 876ms/step - loss: 0.4867 - accuracy: 0.7582 - my_IoU: 0.7414 - val_loss: 0.4828 - val_accuracy: 0.7613 - val_my_IoU: 0.7435\n",
            "Epoch 12/30\n",
            "192/192 [==============================] - 168s 876ms/step - loss: 0.4799 - accuracy: 0.7628 - my_IoU: 0.7407 - val_loss: 0.4813 - val_accuracy: 0.7597 - val_my_IoU: 0.7432\n",
            "Epoch 13/30\n",
            "192/192 [==============================] - 168s 872ms/step - loss: 0.4720 - accuracy: 0.7676 - my_IoU: 0.7407 - val_loss: 0.4644 - val_accuracy: 0.7710 - val_my_IoU: 0.7409\n",
            "Epoch 14/30\n",
            "192/192 [==============================] - 168s 873ms/step - loss: 0.4661 - accuracy: 0.7727 - my_IoU: 0.7391 - val_loss: 0.4591 - val_accuracy: 0.7754 - val_my_IoU: 0.7398\n",
            "Epoch 15/30\n",
            "192/192 [==============================] - 169s 879ms/step - loss: 0.4581 - accuracy: 0.7775 - my_IoU: 0.7404 - val_loss: 0.4502 - val_accuracy: 0.7812 - val_my_IoU: 0.7421\n",
            "Epoch 16/30\n",
            "192/192 [==============================] - 168s 876ms/step - loss: 0.4540 - accuracy: 0.7797 - my_IoU: 0.7398 - val_loss: 0.4518 - val_accuracy: 0.7795 - val_my_IoU: 0.7394\n",
            "Epoch 17/30\n",
            "192/192 [==============================] - 168s 878ms/step - loss: 0.4447 - accuracy: 0.7855 - my_IoU: 0.7404 - val_loss: 0.4448 - val_accuracy: 0.7846 - val_my_IoU: 0.7418\n",
            "Epoch 18/30\n",
            "192/192 [==============================] - 168s 875ms/step - loss: 0.4442 - accuracy: 0.7859 - my_IoU: 0.7405 - val_loss: 0.4478 - val_accuracy: 0.7797 - val_my_IoU: 0.7383\n",
            "Epoch 19/30\n",
            "192/192 [==============================] - 168s 875ms/step - loss: 0.4404 - accuracy: 0.7878 - my_IoU: 0.7396 - val_loss: 0.4360 - val_accuracy: 0.7908 - val_my_IoU: 0.7368\n",
            "Epoch 20/30\n",
            "192/192 [==============================] - 167s 871ms/step - loss: 0.4318 - accuracy: 0.7929 - my_IoU: 0.7407 - val_loss: 0.4416 - val_accuracy: 0.7873 - val_my_IoU: 0.7421\n",
            "Epoch 21/30\n",
            "192/192 [==============================] - 169s 881ms/step - loss: 0.4299 - accuracy: 0.7931 - my_IoU: 0.7394 - val_loss: 0.4323 - val_accuracy: 0.7899 - val_my_IoU: 0.7357\n",
            "Epoch 22/30\n",
            "192/192 [==============================] - 168s 877ms/step - loss: 0.4251 - accuracy: 0.7960 - my_IoU: 0.7398 - val_loss: 0.4347 - val_accuracy: 0.7904 - val_my_IoU: 0.7368\n",
            "Epoch 23/30\n",
            "192/192 [==============================] - 169s 881ms/step - loss: 0.4249 - accuracy: 0.7970 - my_IoU: 0.7410 - val_loss: 0.4253 - val_accuracy: 0.7955 - val_my_IoU: 0.7396\n",
            "Epoch 24/30\n",
            "192/192 [==============================] - 168s 876ms/step - loss: 0.4198 - accuracy: 0.8003 - my_IoU: 0.7394 - val_loss: 0.4236 - val_accuracy: 0.7978 - val_my_IoU: 0.7372\n",
            "Epoch 25/30\n",
            "192/192 [==============================] - 169s 878ms/step - loss: 0.4154 - accuracy: 0.8018 - my_IoU: 0.7405 - val_loss: 0.4182 - val_accuracy: 0.7991 - val_my_IoU: 0.7379\n",
            "Epoch 26/30\n",
            "192/192 [==============================] - 168s 876ms/step - loss: 0.4155 - accuracy: 0.8020 - my_IoU: 0.7395 - val_loss: 0.4318 - val_accuracy: 0.7960 - val_my_IoU: 0.7440\n",
            "Epoch 27/30\n",
            "192/192 [==============================] - 169s 881ms/step - loss: 0.4087 - accuracy: 0.8073 - my_IoU: 0.7400 - val_loss: 0.4123 - val_accuracy: 0.8063 - val_my_IoU: 0.7381\n",
            "Epoch 28/30\n",
            "192/192 [==============================] - 169s 878ms/step - loss: 0.4090 - accuracy: 0.8060 - my_IoU: 0.7400 - val_loss: 0.4143 - val_accuracy: 0.8045 - val_my_IoU: 0.7392\n",
            "Epoch 29/30\n",
            "192/192 [==============================] - 167s 872ms/step - loss: 0.4047 - accuracy: 0.8088 - my_IoU: 0.7392 - val_loss: 0.4379 - val_accuracy: 0.7908 - val_my_IoU: 0.7435\n",
            "Epoch 30/30\n",
            "192/192 [==============================] - 168s 875ms/step - loss: 0.4030 - accuracy: 0.8096 - my_IoU: 0.7399 - val_loss: 0.4140 - val_accuracy: 0.8031 - val_my_IoU: 0.7392\n"
          ],
          "name": "stdout"
        },
        {
          "output_type": "execute_result",
          "data": {
            "text/plain": [
              "<tensorflow.python.keras.callbacks.History at 0x7f08d631b0f0>"
            ]
          },
          "metadata": {
            "tags": []
          },
          "execution_count": 11
        }
      ]
    },
    {
      "cell_type": "markdown",
      "metadata": {
        "colab_type": "text",
        "id": "X7pKaUzDKCXk"
      },
      "source": [
        "## Compute prediction"
      ]
    },
    {
      "cell_type": "code",
      "metadata": {
        "colab_type": "code",
        "id": "w3B_qKpRe91a",
        "colab": {}
      },
      "source": [
        "from datetime import datetime\n",
        "\n",
        "def create_csv(results, results_dir='./'):\n",
        "\n",
        "    csv_fname = 'results_'\n",
        "    csv_fname += datetime.now().strftime('%b%d_%H-%M-%S') + '.csv'\n",
        "\n",
        "    with open(csv_fname, 'w') as f:\n",
        "\n",
        "      f.write('ImageId,EncodedPixels,Width,Height\\n')\n",
        "\n",
        "      for key, value in results.items():\n",
        "          f.write(key + ',' + str(value) + ',' + '256' + ',' + '256' + '\\n')"
      ],
      "execution_count": 0,
      "outputs": []
    },
    {
      "cell_type": "code",
      "metadata": {
        "colab_type": "code",
        "id": "azJB0sa6_wpO",
        "colab": {}
      },
      "source": [
        "def rle_encode(img):\n",
        "      # Flatten column-wise\n",
        "      pixels = img.T.flatten()\n",
        "      pixels = np.concatenate([[0], pixels, [0]])\n",
        "      runs = np.where(pixels[1:] != pixels[:-1])[0] + 1\n",
        "      runs[1::2] -= runs[::2]\n",
        "      return ' '.join(str(x) for x in runs)"
      ],
      "execution_count": 0,
      "outputs": []
    },
    {
      "cell_type": "code",
      "metadata": {
        "colab_type": "code",
        "id": "ktq58wsVKCXm",
        "scrolled": false,
        "colab": {}
      },
      "source": [
        "import time\n",
        "import PIL\n",
        "\n",
        "from PIL import Image\n",
        "\n",
        "# Cycle over test images\n",
        "\n",
        "test_dir = os.path.join(dataset_dir, 'test')\n",
        "test_img_dir = os.path.join(test_dir, 'images', 'img')\n",
        "\n",
        "img_filenames = next(os.walk(test_img_dir))[2]\n",
        "\n",
        "results={}\n",
        "\n",
        "for img_filename in img_filenames:\n",
        "    \n",
        "    img = Image.open(os.path.join(test_img_dir, img_filename)).convert('RGB')\n",
        "    \n",
        "    img_filename = img_filename[:-4]\n",
        "    img_arr = np.expand_dims(np.array(img), 0)\n",
        "    img_arr = img_arr / 255.0\n",
        "    out_softmax = model.predict(x=img_arr)\n",
        "\n",
        "    # Get predicted class as the index corresponding to the maximum value in the vector probability\n",
        "    predicted_class = tf.argmax(out_softmax, -1)\n",
        "    predicted_class = predicted_class[0]\n",
        "    prediction_img = np.zeros([256, 256, 1])\n",
        "    prediction_img[np.where(predicted_class == 0)] = 1\n",
        "    prediction_img[np.where(predicted_class == 1)] = 0\n",
        "    results[img_filename] = rle_encode(prediction_img)\n",
        "\n",
        "create_csv(results)"
      ],
      "execution_count": 0,
      "outputs": []
    },
    {
      "cell_type": "code",
      "metadata": {
        "id": "NI9oJD6X30Fb",
        "colab_type": "code",
        "colab": {}
      },
      "source": [
        ""
      ],
      "execution_count": 0,
      "outputs": []
    }
  ]
}